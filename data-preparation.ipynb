{
 "cells": [
  {
   "cell_type": "markdown",
   "metadata": {},
   "source": [
    "<h4>Global CO<sub>2</sub> Emissions Dataset from Maven Analytics</h4>\n",
    "\n",
    "<p>Objectives:</p>\n",
    "<ul>\n",
    "    <li>What is the trend of CO<sub>2</sub> emissions in the world over time?\n",
    "    Can it be related to the demographics?</li>\n",
    "    <li>Which country contributes both the least and the most emissions?</li>\n",
    "    <li>What are the major sources of these emissions? </li>\n",
    "    <li>Is temperature related to the amount of CO<sub>2</sub> emissions?</li>\n",
    "</ul>"
   ]
  },
  {
   "cell_type": "code",
   "execution_count": 171,
   "metadata": {},
   "outputs": [],
   "source": [
    "#Libraries\n",
    "import pandas as pd \n",
    "import numpy as np\n",
    "import matplotlib.pyplot as plt \n",
    "import seaborn as sns"
   ]
  },
  {
   "cell_type": "code",
   "execution_count": 172,
   "metadata": {},
   "outputs": [
    {
     "data": {
      "text/plain": [
       "(50598, 79)"
      ]
     },
     "execution_count": 172,
     "metadata": {},
     "output_type": "execute_result"
    }
   ],
   "source": [
    "df = pd.read_csv(\"data/co2_data.csv\")\n",
    "df.shape"
   ]
  },
  {
   "cell_type": "code",
   "execution_count": 173,
   "metadata": {},
   "outputs": [
    {
     "name": "stdout",
     "output_type": "stream",
     "text": [
      "<class 'pandas.core.frame.DataFrame'>\n",
      "RangeIndex: 50598 entries, 0 to 50597\n",
      "Data columns (total 79 columns):\n",
      " #   Column                                     Non-Null Count  Dtype  \n",
      "---  ------                                     --------------  -----  \n",
      " 0   country                                    50598 non-null  object \n",
      " 1   year                                       50598 non-null  int64  \n",
      " 2   iso_code                                   42142 non-null  object \n",
      " 3   population                                 40008 non-null  float64\n",
      " 4   gdp                                        14564 non-null  float64\n",
      " 5   cement_co2                                 24974 non-null  float64\n",
      " 6   cement_co2_per_capita                      22714 non-null  float64\n",
      " 7   co2                                        31349 non-null  float64\n",
      " 8   co2_growth_abs                             29010 non-null  float64\n",
      " 9   co2_growth_prct                            25032 non-null  float64\n",
      " 10  co2_including_luc                          24218 non-null  float64\n",
      " 11  co2_including_luc_growth_abs               23917 non-null  float64\n",
      " 12  co2_including_luc_growth_prct              24123 non-null  float64\n",
      " 13  co2_including_luc_per_capita               23696 non-null  float64\n",
      " 14  co2_including_luc_per_gdp                  15701 non-null  float64\n",
      " 15  co2_including_luc_per_unit_energy          9722 non-null   float64\n",
      " 16  co2_per_capita                             26915 non-null  float64\n",
      " 17  co2_per_gdp                                16291 non-null  float64\n",
      " 18  co2_per_unit_energy                        10276 non-null  float64\n",
      " 19  coal_co2                                   25069 non-null  float64\n",
      " 20  coal_co2_per_capita                        24421 non-null  float64\n",
      " 21  consumption_co2                            4600 non-null   float64\n",
      " 22  consumption_co2_per_capita                 4227 non-null   float64\n",
      " 23  consumption_co2_per_gdp                    3898 non-null   float64\n",
      " 24  cumulative_cement_co2                      24873 non-null  float64\n",
      " 25  cumulative_co2                             29356 non-null  float64\n",
      " 26  cumulative_co2_including_luc               24218 non-null  float64\n",
      " 27  cumulative_coal_co2                        24968 non-null  float64\n",
      " 28  cumulative_flaring_co2                     24774 non-null  float64\n",
      " 29  cumulative_gas_co2                         24842 non-null  float64\n",
      " 30  cumulative_luc_co2                         39388 non-null  float64\n",
      " 31  cumulative_oil_co2                         24941 non-null  float64\n",
      " 32  cumulative_other_co2                       2386 non-null   float64\n",
      " 33  energy_per_capita                          10320 non-null  float64\n",
      " 34  energy_per_gdp                             7159 non-null   float64\n",
      " 35  flaring_co2                                24875 non-null  float64\n",
      " 36  flaring_co2_per_capita                     24272 non-null  float64\n",
      " 37  gas_co2                                    24943 non-null  float64\n",
      " 38  gas_co2_per_capita                         24340 non-null  float64\n",
      " 39  ghg_excluding_lucf_per_capita              6149 non-null   float64\n",
      " 40  ghg_per_capita                             6149 non-null   float64\n",
      " 41  land_use_change_co2                        39388 non-null  float64\n",
      " 42  land_use_change_co2_per_capita             36026 non-null  float64\n",
      " 43  methane                                    6150 non-null   float64\n",
      " 44  methane_per_capita                         6150 non-null   float64\n",
      " 45  nitrous_oxide                              6150 non-null   float64\n",
      " 46  nitrous_oxide_per_capita                   6150 non-null   float64\n",
      " 47  oil_co2                                    25042 non-null  float64\n",
      " 48  oil_co2_per_capita                         24367 non-null  float64\n",
      " 49  other_co2_per_capita                       2386 non-null   float64\n",
      " 50  other_industry_co2                         2386 non-null   float64\n",
      " 51  primary_energy_consumption                 10391 non-null  float64\n",
      " 52  share_global_cement_co2                    20830 non-null  float64\n",
      " 53  share_global_co2                           29356 non-null  float64\n",
      " 54  share_global_co2_including_luc             24218 non-null  float64\n",
      " 55  share_global_coal_co2                      24968 non-null  float64\n",
      " 56  share_global_cumulative_cement_co2         20830 non-null  float64\n",
      " 57  share_global_cumulative_co2                29356 non-null  float64\n",
      " 58  share_global_cumulative_co2_including_luc  24218 non-null  float64\n",
      " 59  share_global_cumulative_coal_co2           24968 non-null  float64\n",
      " 60  share_global_cumulative_flaring_co2        15980 non-null  float64\n",
      " 61  share_global_cumulative_gas_co2            21990 non-null  float64\n",
      " 62  share_global_cumulative_luc_co2            39388 non-null  float64\n",
      " 63  share_global_cumulative_oil_co2            23421 non-null  float64\n",
      " 64  share_global_cumulative_other_co2          2386 non-null   float64\n",
      " 65  share_global_flaring_co2                   15980 non-null  float64\n",
      " 66  share_global_gas_co2                       21990 non-null  float64\n",
      " 67  share_global_luc_co2                       39388 non-null  float64\n",
      " 68  share_global_oil_co2                       23421 non-null  float64\n",
      " 69  share_global_other_co2                     2386 non-null   float64\n",
      " 70  share_of_temperature_change_from_ghg       41724 non-null  float64\n",
      " 71  temperature_change_from_ch4                37620 non-null  float64\n",
      " 72  temperature_change_from_co2                41724 non-null  float64\n",
      " 73  temperature_change_from_ghg                41724 non-null  float64\n",
      " 74  temperature_change_from_n2o                37620 non-null  float64\n",
      " 75  total_ghg                                  6149 non-null   float64\n",
      " 76  total_ghg_excluding_lucf                   6149 non-null   float64\n",
      " 77  trade_co2                                  4259 non-null   float64\n",
      " 78  trade_co2_share                            4258 non-null   float64\n",
      "dtypes: float64(76), int64(1), object(2)\n",
      "memory usage: 30.5+ MB\n"
     ]
    }
   ],
   "source": [
    "df.info()"
   ]
  },
  {
   "cell_type": "markdown",
   "metadata": {},
   "source": [
    "<p>Filtering the data columns based on the objectives.</p>"
   ]
  },
  {
   "cell_type": "code",
   "execution_count": 174,
   "metadata": {},
   "outputs": [],
   "source": [
    "#Columns containing demographics and CO2 emissions\n",
    "df_demographics = df[['country', 'year', 'iso_code', 'population', 'gdp','co2',\n",
    "'land_use_change_co2']]\n",
    "\n",
    "# Columns containing the sources of emissions \n",
    "df_sources = df[['cement_co2','coal_co2','flaring_co2','gas_co2','land_use_change_co2',\\\n",
    "    'consumption_co2','oil_co2','other_industry_co2']]\n",
    "\n",
    "# Columns containing temperature changes\n",
    "df_temp = df[[col for col in df.columns if 'temperature' in col]]\n",
    "\n",
    "#Columns for the methane and NOx\n",
    "df_chem = df[['year','methane','nitrous_oxide']]"
   ]
  },
  {
   "cell_type": "markdown",
   "metadata": {},
   "source": [
    "Table 1: Sources Table"
   ]
  },
  {
   "cell_type": "code",
   "execution_count": 175,
   "metadata": {},
   "outputs": [],
   "source": [
    "# By pd.melt, reverse the columns into rows and maintain the values\n",
    "df_sources =pd.melt(df_sources.reset_index(),id_vars=['index'],value_vars=df_sources.columns, \\\n",
    "    var_name=\"emission_sources\",value_name=\"million_tons\").copy()\n",
    "    \n",
    "df_sources = df_sources.groupby('emission_sources')['million_tons'].sum().reset_index()"
   ]
  },
  {
   "cell_type": "code",
   "execution_count": 176,
   "metadata": {},
   "outputs": [
    {
     "data": {
      "text/html": [
       "<div>\n",
       "<style scoped>\n",
       "    .dataframe tbody tr th:only-of-type {\n",
       "        vertical-align: middle;\n",
       "    }\n",
       "\n",
       "    .dataframe tbody tr th {\n",
       "        vertical-align: top;\n",
       "    }\n",
       "\n",
       "    .dataframe thead th {\n",
       "        text-align: right;\n",
       "    }\n",
       "</style>\n",
       "<table border=\"1\" class=\"dataframe\">\n",
       "  <thead>\n",
       "    <tr style=\"text-align: right;\">\n",
       "      <th></th>\n",
       "      <th>emission_sources</th>\n",
       "      <th>million_tons</th>\n",
       "      <th>percentage</th>\n",
       "    </tr>\n",
       "  </thead>\n",
       "  <tbody>\n",
       "    <tr>\n",
       "      <th>0</th>\n",
       "      <td>cement_co2</td>\n",
       "      <td>209594.066</td>\n",
       "      <td>1.00</td>\n",
       "    </tr>\n",
       "    <tr>\n",
       "      <th>1</th>\n",
       "      <td>coal_co2</td>\n",
       "      <td>3870596.153</td>\n",
       "      <td>21.00</td>\n",
       "    </tr>\n",
       "    <tr>\n",
       "      <th>2</th>\n",
       "      <td>consumption_co2</td>\n",
       "      <td>6073187.268</td>\n",
       "      <td>33.00</td>\n",
       "    </tr>\n",
       "    <tr>\n",
       "      <th>3</th>\n",
       "      <td>flaring_co2</td>\n",
       "      <td>86909.154</td>\n",
       "      <td>0.47</td>\n",
       "    </tr>\n",
       "    <tr>\n",
       "      <th>4</th>\n",
       "      <td>gas_co2</td>\n",
       "      <td>1249162.183</td>\n",
       "      <td>7.00</td>\n",
       "    </tr>\n",
       "    <tr>\n",
       "      <th>5</th>\n",
       "      <td>land_use_change_co2</td>\n",
       "      <td>4333960.833</td>\n",
       "      <td>23.00</td>\n",
       "    </tr>\n",
       "    <tr>\n",
       "      <th>6</th>\n",
       "      <td>oil_co2</td>\n",
       "      <td>2789318.374</td>\n",
       "      <td>15.00</td>\n",
       "    </tr>\n",
       "    <tr>\n",
       "      <th>7</th>\n",
       "      <td>other_industry_co2</td>\n",
       "      <td>43974.095</td>\n",
       "      <td>0.24</td>\n",
       "    </tr>\n",
       "  </tbody>\n",
       "</table>\n",
       "</div>"
      ],
      "text/plain": [
       "      emission_sources  million_tons  percentage\n",
       "0           cement_co2    209594.066        1.00\n",
       "1             coal_co2   3870596.153       21.00\n",
       "2      consumption_co2   6073187.268       33.00\n",
       "3          flaring_co2     86909.154        0.47\n",
       "4              gas_co2   1249162.183        7.00\n",
       "5  land_use_change_co2   4333960.833       23.00\n",
       "6              oil_co2   2789318.374       15.00\n",
       "7   other_industry_co2     43974.095        0.24"
      ]
     },
     "execution_count": 176,
     "metadata": {},
     "output_type": "execute_result"
    }
   ],
   "source": [
    "# Adding the Percentage Column\n",
    "df_sources['percentage'] = (df_sources['million_tons']/df_sources['million_tons'].sum())*100\n",
    "df_sources['percentage'] = df_sources['percentage'].apply(lambda x: round(x,0) if x > 1 else round(x,2))\n",
    "df_sources"
   ]
  },
  {
   "cell_type": "markdown",
   "metadata": {},
   "source": [
    "Adding Foreign Key to Other Tables"
   ]
  },
  {
   "cell_type": "code",
   "execution_count": 177,
   "metadata": {},
   "outputs": [
    {
     "data": {
      "text/plain": [
       "(50598, 15)"
      ]
     },
     "execution_count": 177,
     "metadata": {},
     "output_type": "execute_result"
    }
   ],
   "source": [
    "# Combining those selected data columns\n",
    "filtered_df = pd.concat([df_demographics,df_temp,df_chem],axis=1)\n",
    "filtered_df.shape"
   ]
  },
  {
   "cell_type": "code",
   "execution_count": 178,
   "metadata": {},
   "outputs": [
    {
     "data": {
      "text/plain": [
       "['country_key', 'chem_key', 'temp_key']"
      ]
     },
     "execution_count": 178,
     "metadata": {},
     "output_type": "execute_result"
    }
   ],
   "source": [
    "# Add country foreign key to country\n",
    "unique_countries = filtered_df['country'].unique()\n",
    "country_values = pd.Series(np.arange(len(unique_countries)), index=unique_countries)\n",
    "filtered_df['country_key'] = filtered_df['country'].apply(lambda x: str(100 + country_values[x]))\n",
    "\n",
    "# Add Chemical Sources Key\n",
    "filtered_df['chem_key'] = [int(\"20\" + str(0 + x)) for x in range(len(filtered_df))]\n",
    "\n",
    "\n",
    "# Add Temperature Change Key\n",
    "filtered_df['temp_key'] = [int(\"30\" + str(0+x)) for x in range(len(filtered_df))]\n",
    "\n",
    "\n",
    "Key_columns = [col for col in filtered_df.columns if 'key' in col]\n",
    "Key_columns\n"
   ]
  },
  {
   "cell_type": "code",
   "execution_count": 179,
   "metadata": {},
   "outputs": [],
   "source": [
    "#Loop to drop and insert the key columns to the left side of the dataframe\n",
    "for key in Key_columns:\n",
    "    filtered_df[key] = filtered_df[key].astype(str)\n",
    "    foreign_keys = filtered_df.pop(key)  \n",
    "    filtered_df.insert(0, key, foreign_keys)"
   ]
  },
  {
   "cell_type": "code",
   "execution_count": 180,
   "metadata": {},
   "outputs": [
    {
     "data": {
      "text/html": [
       "<div>\n",
       "<style scoped>\n",
       "    .dataframe tbody tr th:only-of-type {\n",
       "        vertical-align: middle;\n",
       "    }\n",
       "\n",
       "    .dataframe tbody tr th {\n",
       "        vertical-align: top;\n",
       "    }\n",
       "\n",
       "    .dataframe thead th {\n",
       "        text-align: right;\n",
       "    }\n",
       "</style>\n",
       "<table border=\"1\" class=\"dataframe\">\n",
       "  <thead>\n",
       "    <tr style=\"text-align: right;\">\n",
       "      <th></th>\n",
       "      <th>temp_key</th>\n",
       "      <th>chem_key</th>\n",
       "      <th>country_key</th>\n",
       "      <th>country</th>\n",
       "      <th>year</th>\n",
       "      <th>iso_code</th>\n",
       "      <th>population</th>\n",
       "      <th>gdp</th>\n",
       "      <th>co2</th>\n",
       "      <th>land_use_change_co2</th>\n",
       "      <th>share_of_temperature_change_from_ghg</th>\n",
       "      <th>temperature_change_from_ch4</th>\n",
       "      <th>temperature_change_from_co2</th>\n",
       "      <th>temperature_change_from_ghg</th>\n",
       "      <th>temperature_change_from_n2o</th>\n",
       "      <th>year</th>\n",
       "      <th>methane</th>\n",
       "      <th>nitrous_oxide</th>\n",
       "    </tr>\n",
       "  </thead>\n",
       "  <tbody>\n",
       "    <tr>\n",
       "      <th>0</th>\n",
       "      <td>300</td>\n",
       "      <td>200</td>\n",
       "      <td>100</td>\n",
       "      <td>Afghanistan</td>\n",
       "      <td>1850</td>\n",
       "      <td>AFG</td>\n",
       "      <td>3752993.0</td>\n",
       "      <td>NaN</td>\n",
       "      <td>NaN</td>\n",
       "      <td>2.931</td>\n",
       "      <td>NaN</td>\n",
       "      <td>NaN</td>\n",
       "      <td>NaN</td>\n",
       "      <td>NaN</td>\n",
       "      <td>NaN</td>\n",
       "      <td>1850</td>\n",
       "      <td>NaN</td>\n",
       "      <td>NaN</td>\n",
       "    </tr>\n",
       "    <tr>\n",
       "      <th>1</th>\n",
       "      <td>301</td>\n",
       "      <td>201</td>\n",
       "      <td>100</td>\n",
       "      <td>Afghanistan</td>\n",
       "      <td>1851</td>\n",
       "      <td>AFG</td>\n",
       "      <td>3767956.0</td>\n",
       "      <td>NaN</td>\n",
       "      <td>NaN</td>\n",
       "      <td>2.968</td>\n",
       "      <td>0.165</td>\n",
       "      <td>0.0</td>\n",
       "      <td>0.0</td>\n",
       "      <td>0.0</td>\n",
       "      <td>0.0</td>\n",
       "      <td>1851</td>\n",
       "      <td>NaN</td>\n",
       "      <td>NaN</td>\n",
       "    </tr>\n",
       "    <tr>\n",
       "      <th>2</th>\n",
       "      <td>302</td>\n",
       "      <td>202</td>\n",
       "      <td>100</td>\n",
       "      <td>Afghanistan</td>\n",
       "      <td>1852</td>\n",
       "      <td>AFG</td>\n",
       "      <td>3783940.0</td>\n",
       "      <td>NaN</td>\n",
       "      <td>NaN</td>\n",
       "      <td>2.968</td>\n",
       "      <td>0.164</td>\n",
       "      <td>0.0</td>\n",
       "      <td>0.0</td>\n",
       "      <td>0.0</td>\n",
       "      <td>0.0</td>\n",
       "      <td>1852</td>\n",
       "      <td>NaN</td>\n",
       "      <td>NaN</td>\n",
       "    </tr>\n",
       "    <tr>\n",
       "      <th>3</th>\n",
       "      <td>303</td>\n",
       "      <td>203</td>\n",
       "      <td>100</td>\n",
       "      <td>Afghanistan</td>\n",
       "      <td>1853</td>\n",
       "      <td>AFG</td>\n",
       "      <td>3800954.0</td>\n",
       "      <td>NaN</td>\n",
       "      <td>NaN</td>\n",
       "      <td>3.004</td>\n",
       "      <td>0.164</td>\n",
       "      <td>0.0</td>\n",
       "      <td>0.0</td>\n",
       "      <td>0.0</td>\n",
       "      <td>0.0</td>\n",
       "      <td>1853</td>\n",
       "      <td>NaN</td>\n",
       "      <td>NaN</td>\n",
       "    </tr>\n",
       "    <tr>\n",
       "      <th>4</th>\n",
       "      <td>304</td>\n",
       "      <td>204</td>\n",
       "      <td>100</td>\n",
       "      <td>Afghanistan</td>\n",
       "      <td>1854</td>\n",
       "      <td>AFG</td>\n",
       "      <td>3818038.0</td>\n",
       "      <td>NaN</td>\n",
       "      <td>NaN</td>\n",
       "      <td>3.004</td>\n",
       "      <td>0.163</td>\n",
       "      <td>0.0</td>\n",
       "      <td>0.0</td>\n",
       "      <td>0.0</td>\n",
       "      <td>0.0</td>\n",
       "      <td>1854</td>\n",
       "      <td>NaN</td>\n",
       "      <td>NaN</td>\n",
       "    </tr>\n",
       "  </tbody>\n",
       "</table>\n",
       "</div>"
      ],
      "text/plain": [
       "  temp_key chem_key country_key      country  year iso_code  population  gdp  \\\n",
       "0      300      200         100  Afghanistan  1850      AFG   3752993.0  NaN   \n",
       "1      301      201         100  Afghanistan  1851      AFG   3767956.0  NaN   \n",
       "2      302      202         100  Afghanistan  1852      AFG   3783940.0  NaN   \n",
       "3      303      203         100  Afghanistan  1853      AFG   3800954.0  NaN   \n",
       "4      304      204         100  Afghanistan  1854      AFG   3818038.0  NaN   \n",
       "\n",
       "   co2  land_use_change_co2  share_of_temperature_change_from_ghg  \\\n",
       "0  NaN                2.931                                   NaN   \n",
       "1  NaN                2.968                                 0.165   \n",
       "2  NaN                2.968                                 0.164   \n",
       "3  NaN                3.004                                 0.164   \n",
       "4  NaN                3.004                                 0.163   \n",
       "\n",
       "   temperature_change_from_ch4  temperature_change_from_co2  \\\n",
       "0                          NaN                          NaN   \n",
       "1                          0.0                          0.0   \n",
       "2                          0.0                          0.0   \n",
       "3                          0.0                          0.0   \n",
       "4                          0.0                          0.0   \n",
       "\n",
       "   temperature_change_from_ghg  temperature_change_from_n2o  year  methane  \\\n",
       "0                          NaN                          NaN  1850      NaN   \n",
       "1                          0.0                          0.0  1851      NaN   \n",
       "2                          0.0                          0.0  1852      NaN   \n",
       "3                          0.0                          0.0  1853      NaN   \n",
       "4                          0.0                          0.0  1854      NaN   \n",
       "\n",
       "   nitrous_oxide  \n",
       "0            NaN  \n",
       "1            NaN  \n",
       "2            NaN  \n",
       "3            NaN  \n",
       "4            NaN  "
      ]
     },
     "execution_count": 180,
     "metadata": {},
     "output_type": "execute_result"
    }
   ],
   "source": [
    "filtered_df.head()"
   ]
  },
  {
   "cell_type": "markdown",
   "metadata": {},
   "source": [
    "<p>Summarizing Country Table, Chemical Composition Table, and Temperature Change Table</p>"
   ]
  },
  {
   "cell_type": "code",
   "execution_count": 181,
   "metadata": {},
   "outputs": [],
   "source": [
    "country_df = filtered_df[['country_key','country','iso_code']]\n",
    "chem_df = filtered_df[['chem_key','methane','nitrous_oxide']]\n",
    "temp_df = filtered_df[['temp_key','share_of_temperature_change_from_ghg',\\\n",
    "    'temperature_change_from_ch4','temperature_change_from_co2','temperature_change_from_ghg', \\\n",
    "    'temperature_change_from_n2o']]\n",
    "\n"
   ]
  },
  {
   "cell_type": "code",
   "execution_count": 182,
   "metadata": {},
   "outputs": [
    {
     "name": "stdout",
     "output_type": "stream",
     "text": [
      "<class 'pandas.core.frame.DataFrame'>\n",
      "Index: 6150 entries, 140 to 50595\n",
      "Data columns (total 3 columns):\n",
      " #   Column         Non-Null Count  Dtype  \n",
      "---  ------         --------------  -----  \n",
      " 0   chem_key       6150 non-null   object \n",
      " 1   methane        6150 non-null   float64\n",
      " 2   nitrous_oxide  6150 non-null   float64\n",
      "dtypes: float64(2), object(1)\n",
      "memory usage: 192.2+ KB\n"
     ]
    }
   ],
   "source": [
    "chem_df = chem_df.dropna(subset=['methane','nitrous_oxide']).copy()\n",
    "chem_df.info()"
   ]
  },
  {
   "cell_type": "code",
   "execution_count": 183,
   "metadata": {},
   "outputs": [
    {
     "name": "stdout",
     "output_type": "stream",
     "text": [
      "<class 'pandas.core.frame.DataFrame'>\n",
      "Index: 37620 entries, 1 to 50597\n",
      "Data columns (total 6 columns):\n",
      " #   Column                                Non-Null Count  Dtype  \n",
      "---  ------                                --------------  -----  \n",
      " 0   temp_key                              37620 non-null  object \n",
      " 1   share_of_temperature_change_from_ghg  37620 non-null  float64\n",
      " 2   temperature_change_from_ch4           37620 non-null  float64\n",
      " 3   temperature_change_from_co2           37620 non-null  float64\n",
      " 4   temperature_change_from_ghg           37620 non-null  float64\n",
      " 5   temperature_change_from_n2o           37620 non-null  float64\n",
      "dtypes: float64(5), object(1)\n",
      "memory usage: 2.0+ MB\n"
     ]
    }
   ],
   "source": [
    "temp_df = temp_df.dropna(subset=['temperature_change_from_ch4',\\\n",
    "    'temperature_change_from_n2o']).copy()\n",
    "    \n",
    "temp_df['share_of_temperature_change_from_ghg']. \\\n",
    "    fillna(df['share_of_temperature_change_from_ghg'].mean())\n",
    "\n",
    "temp_df.info()"
   ]
  },
  {
   "cell_type": "markdown",
   "metadata": {},
   "source": [
    "<p>Demographics Table</p>"
   ]
  },
  {
   "cell_type": "code",
   "execution_count": 184,
   "metadata": {},
   "outputs": [],
   "source": [
    "demographics_df = filtered_df.drop(['country','share_of_temperature_change_from_ghg', \\\n",
    "    'temperature_change_from_ch4','temperature_change_from_co2', 'temperature_change_from_ghg', \\\n",
    "    'temperature_change_from_n2o', 'year', 'methane', 'nitrous_oxide'],axis=1)"
   ]
  },
  {
   "cell_type": "code",
   "execution_count": 185,
   "metadata": {},
   "outputs": [
    {
     "data": {
      "text/html": [
       "<div>\n",
       "<style scoped>\n",
       "    .dataframe tbody tr th:only-of-type {\n",
       "        vertical-align: middle;\n",
       "    }\n",
       "\n",
       "    .dataframe tbody tr th {\n",
       "        vertical-align: top;\n",
       "    }\n",
       "\n",
       "    .dataframe thead th {\n",
       "        text-align: right;\n",
       "    }\n",
       "</style>\n",
       "<table border=\"1\" class=\"dataframe\">\n",
       "  <thead>\n",
       "    <tr style=\"text-align: right;\">\n",
       "      <th></th>\n",
       "      <th>index</th>\n",
       "      <th>temp_key</th>\n",
       "      <th>chem_key</th>\n",
       "      <th>country_key</th>\n",
       "      <th>iso_code</th>\n",
       "      <th>population</th>\n",
       "      <th>gdp</th>\n",
       "      <th>co2 without land_use</th>\n",
       "      <th>co2</th>\n",
       "    </tr>\n",
       "  </thead>\n",
       "  <tbody>\n",
       "    <tr>\n",
       "      <th>0</th>\n",
       "      <td>99</td>\n",
       "      <td>3099</td>\n",
       "      <td>2099</td>\n",
       "      <td>100</td>\n",
       "      <td>AFG</td>\n",
       "      <td>7356890.0</td>\n",
       "      <td>NaN</td>\n",
       "      <td>0.015</td>\n",
       "      <td>8.039</td>\n",
       "    </tr>\n",
       "    <tr>\n",
       "      <th>1</th>\n",
       "      <td>100</td>\n",
       "      <td>30100</td>\n",
       "      <td>20100</td>\n",
       "      <td>100</td>\n",
       "      <td>AFG</td>\n",
       "      <td>7480464.0</td>\n",
       "      <td>9.421400e+09</td>\n",
       "      <td>0.084</td>\n",
       "      <td>8.584</td>\n",
       "    </tr>\n",
       "    <tr>\n",
       "      <th>2</th>\n",
       "      <td>101</td>\n",
       "      <td>30101</td>\n",
       "      <td>20101</td>\n",
       "      <td>100</td>\n",
       "      <td>AFG</td>\n",
       "      <td>7571542.0</td>\n",
       "      <td>9.692280e+09</td>\n",
       "      <td>0.092</td>\n",
       "      <td>9.142</td>\n",
       "    </tr>\n",
       "    <tr>\n",
       "      <th>3</th>\n",
       "      <td>102</td>\n",
       "      <td>30102</td>\n",
       "      <td>20102</td>\n",
       "      <td>100</td>\n",
       "      <td>AFG</td>\n",
       "      <td>7667534.0</td>\n",
       "      <td>1.001733e+10</td>\n",
       "      <td>0.092</td>\n",
       "      <td>9.948</td>\n",
       "    </tr>\n",
       "    <tr>\n",
       "      <th>4</th>\n",
       "      <td>103</td>\n",
       "      <td>30103</td>\n",
       "      <td>20103</td>\n",
       "      <td>100</td>\n",
       "      <td>AFG</td>\n",
       "      <td>7764549.0</td>\n",
       "      <td>1.063052e+10</td>\n",
       "      <td>0.106</td>\n",
       "      <td>10.915</td>\n",
       "    </tr>\n",
       "  </tbody>\n",
       "</table>\n",
       "</div>"
      ],
      "text/plain": [
       "   index temp_key chem_key country_key iso_code  population           gdp  \\\n",
       "0     99     3099     2099         100      AFG   7356890.0           NaN   \n",
       "1    100    30100    20100         100      AFG   7480464.0  9.421400e+09   \n",
       "2    101    30101    20101         100      AFG   7571542.0  9.692280e+09   \n",
       "3    102    30102    20102         100      AFG   7667534.0  1.001733e+10   \n",
       "4    103    30103    20103         100      AFG   7764549.0  1.063052e+10   \n",
       "\n",
       "   co2 without land_use     co2  \n",
       "0                 0.015   8.039  \n",
       "1                 0.084   8.584  \n",
       "2                 0.092   9.142  \n",
       "3                 0.092   9.948  \n",
       "4                 0.106  10.915  "
      ]
     },
     "execution_count": 185,
     "metadata": {},
     "output_type": "execute_result"
    }
   ],
   "source": [
    "# Drop NaN values from CO2 emission columns\n",
    "demographics_df = demographics_df.dropna(subset=['co2','land_use_change_co2']).copy()\n",
    "\n",
    "# Rename co2 column based on the data definition\n",
    "demographics_df = demographics_df.rename(columns={\"co2\":\"co2 without land_use\"}).reset_index()\n",
    "\n",
    "# Include land use change for calculations\n",
    "demographics_df['co2'] = demographics_df['co2 without land_use'] + demographics_df['land_use_change_co2']\n",
    "demographics_df = demographics_df.drop(['land_use_change_co2'],axis=1).copy()\n",
    "demographics_df.head()\n"
   ]
  },
  {
   "cell_type": "code",
   "execution_count": 186,
   "metadata": {},
   "outputs": [
    {
     "name": "stdout",
     "output_type": "stream",
     "text": [
      "<class 'pandas.core.frame.DataFrame'>\n",
      "RangeIndex: 24218 entries, 0 to 24217\n",
      "Data columns (total 9 columns):\n",
      " #   Column                Non-Null Count  Dtype  \n",
      "---  ------                --------------  -----  \n",
      " 0   index                 24218 non-null  int64  \n",
      " 1   temp_key              24218 non-null  object \n",
      " 2   chem_key              24218 non-null  object \n",
      " 3   country_key           24218 non-null  object \n",
      " 4   iso_code              21294 non-null  object \n",
      " 5   population            22836 non-null  float64\n",
      " 6   gdp                   13230 non-null  float64\n",
      " 7   co2 without land_use  24218 non-null  float64\n",
      " 8   co2                   24218 non-null  float64\n",
      "dtypes: float64(4), int64(1), object(4)\n",
      "memory usage: 1.7+ MB\n"
     ]
    }
   ],
   "source": [
    "demographics_df.info()"
   ]
  },
  {
   "cell_type": "markdown",
   "metadata": {},
   "source": [
    "<h3>Saving the processed dataset</h3>"
   ]
  },
  {
   "cell_type": "code",
   "execution_count": 1,
   "metadata": {},
   "outputs": [
    {
     "ename": "NameError",
     "evalue": "name 'df_sources' is not defined",
     "output_type": "error",
     "traceback": [
      "\u001b[0;31m---------------------------------------------------------------------------\u001b[0m",
      "\u001b[0;31mNameError\u001b[0m                                 Traceback (most recent call last)",
      "Cell \u001b[0;32mIn[1], line 2\u001b[0m\n\u001b[1;32m      1\u001b[0m \u001b[38;5;66;03m#Sources Table\u001b[39;00m\n\u001b[0;32m----> 2\u001b[0m \u001b[43mdf_sources\u001b[49m\u001b[38;5;241m.\u001b[39mto_csv(\u001b[38;5;124m\"\u001b[39m\u001b[38;5;124mclean_data/emission_sources.csv\u001b[39m\u001b[38;5;124m\"\u001b[39m,index\u001b[38;5;241m=\u001b[39m\u001b[38;5;28;01mFalse\u001b[39;00m)\n\u001b[1;32m      4\u001b[0m \u001b[38;5;66;03m# Country Table\u001b[39;00m\n\u001b[1;32m      5\u001b[0m country_df\u001b[38;5;241m.\u001b[39mto_csv(\u001b[38;5;124m\"\u001b[39m\u001b[38;5;124mclean_data/country.csv\u001b[39m\u001b[38;5;124m\"\u001b[39m,index\u001b[38;5;241m=\u001b[39m\u001b[38;5;28;01mFalse\u001b[39;00m)\n",
      "\u001b[0;31mNameError\u001b[0m: name 'df_sources' is not defined"
     ]
    }
   ],
   "source": [
    "#Sources Table\n",
    "df_sources.to_csv(\"clean_data/emission_sources.csv\",index=False)\n",
    "\n",
    "# Country Table\n",
    "country_df.to_csv(\"clean_data/country.csv\",index=False)\n",
    "\n",
    "#  Chemical Composition Table\n",
    "chem_df.to_csv(\"clean_data/chemical.csv\",index=False)\n",
    "\n",
    "# Temperature Change Table\n",
    "temp_df.to_csv(\"clean_data/temperature_change.csv\",index=False)\n",
    "\n",
    "# Demographics Table\n",
    "demographics_df.to_csv(\"clean_data/demographics.csv\",index=False)"
   ]
  }
 ],
 "metadata": {
  "kernelspec": {
   "display_name": "dataprep",
   "language": "python",
   "name": "python3"
  },
  "language_info": {
   "codemirror_mode": {
    "name": "ipython",
    "version": 3
   },
   "file_extension": ".py",
   "mimetype": "text/x-python",
   "name": "python",
   "nbconvert_exporter": "python",
   "pygments_lexer": "ipython3",
   "version": "3.10.12"
  }
 },
 "nbformat": 4,
 "nbformat_minor": 2
}
